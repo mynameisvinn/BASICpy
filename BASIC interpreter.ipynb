{
 "cells": [
  {
   "cell_type": "code",
   "execution_count": 12,
   "metadata": {},
   "outputs": [],
   "source": [
    "tokens = [] # Global variable to hold a list of tokens\n",
    "\n",
    "def tokenizer(line):\n",
    "    \"Return a list of the tokens on this line, handling spaces properly, and upper-casing.\"\n",
    "    line = ''.join(tokenize(line)) # Remove whitespace\n",
    "    return tokenize(line.upper())\n",
    "\n",
    "def peek(): \n",
    "    \"Return the first token in the global `tokens`, or None if we are at the end of the line.\"\n",
    "    return (tokens[0] if tokens else None)\n",
    "\n",
    "def pop(constraint=None):\n",
    "    \"\"\"Remove and return the first token in `tokens`, or return None if token fails constraint.\n",
    "    constraint can be None, a literal (e.g. pop('=')), or a predicate (e.g. pop(is_varname)).\"\"\"\n",
    "    top = peek()\n",
    "    if constraint is None or (top == constraint) or (callable(constraint) and constraint(top)):\n",
    "        return tokens.pop(0)\n",
    "    \n",
    "def remove_spaces(line): \n",
    "    \"Remove white space from line, except space inside double quotes.\"\n",
    "    return \n",
    "\n",
    "def lines(text): \n",
    "    \"A list of the non-empty lines in a text.\"\n",
    "    return [line for line in text.splitlines() if line]"
   ]
  },
  {
   "cell_type": "markdown",
   "metadata": {},
   "source": [
    "# parsing\n",
    "parsing maps source code into an internal representation, ie abstract syntax tree. in lisp, the source code mapped closely to an ast that the lisp interpreter could understand.\n",
    "\n",
    "in basic, each line of code has the following format: a line number, a keyword, and expression (if necessary).\n",
    "\n",
    "### what are keywords?\n",
    "keywords include `let` (for assigning variables to expressions), `GOTO`, etc. keywords tell the basic interpreter what to do, or how to evaluate an expression."
   ]
  },
  {
   "cell_type": "code",
   "execution_count": 2,
   "metadata": {},
   "outputs": [],
   "source": [
    "\n",
    "def Grammar(): \n",
    "    return {\n",
    "    'LET':    [variable, '=', expression],\n",
    "    'READ':   [list_of(variable)],\n",
    "    'DATA':   [list_of(number)],\n",
    "    'PRINT':  [labels_and_expressions],\n",
    "    'GOTO':   [linenumber],\n",
    "    'IF':     [expression, relational, expression, 'THEN', linenumber],\n",
    "    'FOR':    [varname, '=', expression, 'TO', expression, step],\n",
    "    'NEXT':   [varname],\n",
    "    'END':    [],\n",
    "    'STOP':   [],\n",
    "    'DEF':    [funcname, '(', varname, ')', '=', expression],\n",
    "    'GOSUB':  [linenumber],\n",
    "    'RETURN': [],\n",
    "    'DIM':    [list_of(variable)], \n",
    "    'REM':    [anycharacters],\n",
    "    'A':    []\n",
    "    }"
   ]
  },
  {
   "cell_type": "code",
   "execution_count": 38,
   "metadata": {},
   "outputs": [],
   "source": [
    "\n",
    "def number():        return (-1 if pop('-') else +1) * float(pop()) # Optional minus sign\n",
    "def step():          return (expression() if pop('STEP') else 1)    # 1 is the default step\n",
    "def linenumber():    return (int(pop()) if peek().isnumeric() else fail('missing line number'))\n",
    "def relational():    return pop(is_relational) or fail('expected a relational operator')\n",
    "def varname():       return pop(is_varname)    or fail('expected a variable name')\n",
    "def funcname():      return pop(is_funcname)   or fail('expected a function name')\n",
    "def anycharacters(): tokens.clear() # Ignore tokens in a REM statement\n",
    "    \n",
    "def is_stmt_type(x):  return is_str(x) and x in grammar # LET, READ, ...\n",
    "def is_funcname(x):   return is_str(x) and len(x) == 3 and x.isalpha()  # SIN, COS, FNA, FNB, ...\n",
    "def is_varname(x):    return is_str(x) and len(x) in (1, 2) and x[0].isalpha() # A, A1, A2, B, ...\n",
    "def is_label(x):      return is_str(x) and x.startswith('\"') # \"HELLO WORLD\", ...\n",
    "def is_relational(x): return is_str(x) and x in ('<', '=', '>', '<=', '<>', '>=')\n",
    "def is_number(x):     return is_str(x) and x and x[0] in '.0123456789' # '3', '.14', ...\n",
    "\n",
    "def is_str(x):        return isinstance(x, str)\n",
    "\n",
    "def variable(): \n",
    "    \"Parse a possibly subscripted variable e.g. 'X3' or 'A(I)' or 'M(2*I, 3)'.\"\n",
    "    V = varname()\n",
    "    if pop('('):\n",
    "        indexes = list_of(expression)()\n",
    "        pop(')') or fail('expected \")\" to close subscript')\n",
    "        return Subscript(V, indexes) # E.g. 'A(I)' => Subscript('A', ['I'])\n",
    "    else: \n",
    "        return V                     # E.g. 'X3'\n",
    "    \n",
    "class list_of:\n",
    "    \"list_of(category) is a callable that parses a comma-separated list of <category>\"\n",
    "    def __init__(self, category): self.category = category\n",
    "    def __call__(self):\n",
    "        result = ([self.category()] if tokens else [])\n",
    "        while pop(','):\n",
    "            result.append(self.category())\n",
    "        return result\n",
    "    \n",
    "def expression(prec=1): \n",
    "    \"Parse an expression: a primary and any [op expression]* pairs with precedence(op) >= prec.\"\n",
    "    exp = primary()                         # 'A' => 'A'\n",
    "    while precedence(peek()) >= prec:\n",
    "        op = pop()\n",
    "        rhs = expression(precedence(op) + associativity(op))\n",
    "        exp = Opcall(exp, op, rhs)          # 'A + B' => Opcall('A', '+', 'B')\n",
    "    return exp\n",
    "\n",
    "def labels_and_expressions():\n",
    "    \"Parse a sequence of label / comma / semicolon / expression (for PRINT statement).\"\n",
    "    result = []\n",
    "    while tokens:\n",
    "        item = pop(is_label) or pop(',') or pop(';') or expression()\n",
    "        result.append(item)\n",
    "    return result\n",
    "\n",
    "def primary():\n",
    "    \"Parse a primary expression (no infix op except maybe within parens).\"\n",
    "    if is_number(peek()):                   # '1.23' => 1.23 \n",
    "        return number()\n",
    "    elif is_varname(peek()):                # X or A(I) or M(I+1, J)\n",
    "        return variable()\n",
    "    elif is_funcname(peek()):               # SIN(X) => Funcall('SIN', 'X')\n",
    "        return Funcall(pop(), primary())\n",
    "    elif pop('-'):                          # '-X' => Funcall('NEG', 'X')\n",
    "        return Funcall('NEG', primary())\n",
    "    elif pop('('):                          # '(X)' => 'X'\n",
    "        exp = expression()\n",
    "        pop(')') or fail('expected \")\" to end expression')\n",
    "        return exp\n",
    "    else:\n",
    "        return fail('unknown expression')\n",
    "    \n",
    "def precedence(op): \n",
    "    return (3 if op == '^' else 2 if op in ('*', '/', '%') else 1 if op in ('+', '-') else 0)\n",
    "\n",
    "def associativity(op): \n",
    "    return (0 if op == '^' else 1)\n",
    "\n",
    "from collections import namedtuple, defaultdict, deque\n",
    "\n",
    "Stmt      = namedtuple('Stmt',      'num, typ, args')     # '1 GOTO 9' => Stmt(1, 'GOTO', 9)\n",
    "Subscript = namedtuple('Subscript', 'var, indexes')       # 'A(I)'     => Subscript('A', ['I'])\n",
    "Funcall   = namedtuple('Funcall',   'f, x')               # 'SQR(X)'   => Funcall('SQR', 'X')\n",
    "Opcall    = namedtuple('Opcall',    'x, op, y')           # 'X + 1'    => Opcall('X', '+', 1)\n",
    "ForState  = namedtuple('ForState',  'continu, end, step') # Data for FOR loop \n",
    "\n",
    "class Function(namedtuple('_', 'parm, body')):\n",
    "    \"User-defined function; 'DEF FNC(X) = X ^ 3' => Function('X', Opcall('X', '^', 3))\"\n",
    "    def __call__(self, value):                           \n",
    "        variables[self.parm] = value # Global assignment to the parameter\n",
    "        return evalu(self.body)"
   ]
  },
  {
   "cell_type": "code",
   "execution_count": 39,
   "metadata": {},
   "outputs": [],
   "source": [
    "def statement():\n",
    "    \"Parse a BASIC statement from `tokens`.\"\n",
    "    num  = linenumber()\n",
    "    typ  = pop(is_stmt_type) or fail('unknown statement type')\n",
    "    args = []\n",
    "    for p in grammar[typ]: # For each part of rule, call if callable or match if literal string\n",
    "        if callable(p):\n",
    "            args.append(p())\n",
    "        else:\n",
    "            pop(p) or fail('expected ' + repr(p))\n",
    "    return Stmt(num, typ, args)"
   ]
  },
  {
   "cell_type": "code",
   "execution_count": 40,
   "metadata": {},
   "outputs": [],
   "source": [
    "grammar = Grammar()\n",
    "tokens = ['20', 'LET', 'X', '=', 'X', '+', '1']"
   ]
  },
  {
   "cell_type": "code",
   "execution_count": 41,
   "metadata": {},
   "outputs": [
    {
     "data": {
      "text/plain": [
       "Stmt(num=20, typ='LET', args=['X', Opcall(x='X', op='+', y=1.0)])"
      ]
     },
     "execution_count": 41,
     "metadata": {},
     "output_type": "execute_result"
    }
   ],
   "source": [
    "statement()"
   ]
  },
  {
   "cell_type": "code",
   "execution_count": null,
   "metadata": {},
   "outputs": [],
   "source": []
  }
 ],
 "metadata": {
  "kernelspec": {
   "display_name": "Python 3",
   "language": "python",
   "name": "python3"
  },
  "language_info": {
   "codemirror_mode": {
    "name": "ipython",
    "version": 3
   },
   "file_extension": ".py",
   "mimetype": "text/x-python",
   "name": "python",
   "nbconvert_exporter": "python",
   "pygments_lexer": "ipython3",
   "version": "3.7.3"
  }
 },
 "nbformat": 4,
 "nbformat_minor": 2
}
